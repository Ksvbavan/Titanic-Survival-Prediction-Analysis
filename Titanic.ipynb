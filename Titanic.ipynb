{
 "cells": [
  {
   "cell_type": "markdown",
   "id": "bde40970-687c-4b00-86b9-d6a7b2b65fca",
   "metadata": {},
   "source": [
    "### Importing Data"
   ]
  },
  {
   "cell_type": "code",
   "execution_count": 39,
   "id": "c713d1e3-191a-48f7-998e-6c4897e01d32",
   "metadata": {},
   "outputs": [],
   "source": [
    "import numpy as np\n",
    "import pandas as pd\n",
    "import seaborn as sns\n",
    "import matplotlib.pyplot as plt\n",
    "from sklearn.model_selection import train_test_split\n",
    "from sklearn.linear_model import LogisticRegression\n",
    "from sklearn.metrics import accuracy_score\n"
   ]
  },
  {
   "cell_type": "code",
   "execution_count": 18,
   "id": "6fe59dcb-ddae-4810-8c39-cd99e73c36a3",
   "metadata": {},
   "outputs": [
    {
     "data": {
      "text/html": [
       "<div>\n",
       "<style scoped>\n",
       "    .dataframe tbody tr th:only-of-type {\n",
       "        vertical-align: middle;\n",
       "    }\n",
       "\n",
       "    .dataframe tbody tr th {\n",
       "        vertical-align: top;\n",
       "    }\n",
       "\n",
       "    .dataframe thead th {\n",
       "        text-align: right;\n",
       "    }\n",
       "</style>\n",
       "<table border=\"1\" class=\"dataframe\">\n",
       "  <thead>\n",
       "    <tr style=\"text-align: right;\">\n",
       "      <th></th>\n",
       "      <th>Pclass</th>\n",
       "      <th>Survived</th>\n",
       "      <th>Name</th>\n",
       "      <th>Sex</th>\n",
       "      <th>Age</th>\n",
       "      <th>Sibsp</th>\n",
       "      <th>Parch</th>\n",
       "      <th>Ticket</th>\n",
       "      <th>Fare</th>\n",
       "      <th>Embarked</th>\n",
       "    </tr>\n",
       "  </thead>\n",
       "  <tbody>\n",
       "    <tr>\n",
       "      <th>0</th>\n",
       "      <td>1</td>\n",
       "      <td>1</td>\n",
       "      <td>Allen, Miss. Elisabeth Walton</td>\n",
       "      <td>female</td>\n",
       "      <td>29.0000</td>\n",
       "      <td>0</td>\n",
       "      <td>0</td>\n",
       "      <td>24160</td>\n",
       "      <td>211.3375</td>\n",
       "      <td>S</td>\n",
       "    </tr>\n",
       "    <tr>\n",
       "      <th>1</th>\n",
       "      <td>1</td>\n",
       "      <td>1</td>\n",
       "      <td>Allison, Master. Hudson Trevor</td>\n",
       "      <td>male</td>\n",
       "      <td>0.9167</td>\n",
       "      <td>1</td>\n",
       "      <td>2</td>\n",
       "      <td>113781</td>\n",
       "      <td>151.5500</td>\n",
       "      <td>S</td>\n",
       "    </tr>\n",
       "    <tr>\n",
       "      <th>2</th>\n",
       "      <td>1</td>\n",
       "      <td>0</td>\n",
       "      <td>Allison, Miss. Helen Loraine</td>\n",
       "      <td>female</td>\n",
       "      <td>2.0000</td>\n",
       "      <td>1</td>\n",
       "      <td>2</td>\n",
       "      <td>113781</td>\n",
       "      <td>151.5500</td>\n",
       "      <td>S</td>\n",
       "    </tr>\n",
       "    <tr>\n",
       "      <th>3</th>\n",
       "      <td>1</td>\n",
       "      <td>0</td>\n",
       "      <td>Allison, Mr. Hudson Joshua Creighton</td>\n",
       "      <td>male</td>\n",
       "      <td>30.0000</td>\n",
       "      <td>1</td>\n",
       "      <td>2</td>\n",
       "      <td>113781</td>\n",
       "      <td>151.5500</td>\n",
       "      <td>S</td>\n",
       "    </tr>\n",
       "    <tr>\n",
       "      <th>4</th>\n",
       "      <td>1</td>\n",
       "      <td>0</td>\n",
       "      <td>Allison, Mrs. Hudson J C (Bessie Waldo Daniels)</td>\n",
       "      <td>female</td>\n",
       "      <td>25.0000</td>\n",
       "      <td>1</td>\n",
       "      <td>2</td>\n",
       "      <td>113781</td>\n",
       "      <td>151.5500</td>\n",
       "      <td>S</td>\n",
       "    </tr>\n",
       "  </tbody>\n",
       "</table>\n",
       "</div>"
      ],
      "text/plain": [
       "   Pclass  Survived                                             Name     Sex  \\\n",
       "0       1         1                    Allen, Miss. Elisabeth Walton  female   \n",
       "1       1         1                   Allison, Master. Hudson Trevor    male   \n",
       "2       1         0                     Allison, Miss. Helen Loraine  female   \n",
       "3       1         0             Allison, Mr. Hudson Joshua Creighton    male   \n",
       "4       1         0  Allison, Mrs. Hudson J C (Bessie Waldo Daniels)  female   \n",
       "\n",
       "       Age  Sibsp  Parch  Ticket      Fare Embarked  \n",
       "0  29.0000      0      0   24160  211.3375        S  \n",
       "1   0.9167      1      2  113781  151.5500        S  \n",
       "2   2.0000      1      2  113781  151.5500        S  \n",
       "3  30.0000      1      2  113781  151.5500        S  \n",
       "4  25.0000      1      2  113781  151.5500        S  "
      ]
     },
     "execution_count": 18,
     "metadata": {},
     "output_type": "execute_result"
    }
   ],
   "source": [
    "a=pd.read_excel(r\"C:\\Users\\Bavan Kumar\\Desktop\\TITANIC\\Titanic DS.xlsx\")\n",
    "a.head()"
   ]
  },
  {
   "cell_type": "code",
   "execution_count": 19,
   "id": "b72e11bc-355e-4c01-81b3-18980b9f91e5",
   "metadata": {},
   "outputs": [
    {
     "name": "stdout",
     "output_type": "stream",
     "text": [
      "<class 'pandas.core.frame.DataFrame'>\n",
      "RangeIndex: 1309 entries, 0 to 1308\n",
      "Data columns (total 10 columns):\n",
      " #   Column    Non-Null Count  Dtype  \n",
      "---  ------    --------------  -----  \n",
      " 0   Pclass    1309 non-null   int64  \n",
      " 1   Survived  1309 non-null   int64  \n",
      " 2   Name      1309 non-null   object \n",
      " 3   Sex       1309 non-null   object \n",
      " 4   Age       1046 non-null   float64\n",
      " 5   Sibsp     1309 non-null   int64  \n",
      " 6   Parch     1309 non-null   int64  \n",
      " 7   Ticket    1309 non-null   object \n",
      " 8   Fare      1308 non-null   float64\n",
      " 9   Embarked  1307 non-null   object \n",
      "dtypes: float64(2), int64(4), object(4)\n",
      "memory usage: 102.4+ KB\n"
     ]
    }
   ],
   "source": [
    "a.info()"
   ]
  },
  {
   "cell_type": "markdown",
   "id": "db0c97dc-6cb6-4c25-b72f-610abe916663",
   "metadata": {},
   "source": [
    "### Missing values in the data set"
   ]
  },
  {
   "cell_type": "code",
   "execution_count": 20,
   "id": "64746783-fadb-467e-a568-f138bc14a3b1",
   "metadata": {},
   "outputs": [
    {
     "data": {
      "text/plain": [
       "Pclass        0\n",
       "Survived      0\n",
       "Name          0\n",
       "Sex           0\n",
       "Age         263\n",
       "Sibsp         0\n",
       "Parch         0\n",
       "Ticket        0\n",
       "Fare          1\n",
       "Embarked      2\n",
       "dtype: int64"
      ]
     },
     "execution_count": 20,
     "metadata": {},
     "output_type": "execute_result"
    }
   ],
   "source": [
    "a.isnull().sum()"
   ]
  },
  {
   "cell_type": "markdown",
   "id": "f821fc67-61a9-4585-beb4-98f9be3c3ee0",
   "metadata": {},
   "source": [
    "### Imputing missing values in the data set"
   ]
  },
  {
   "cell_type": "code",
   "execution_count": 21,
   "id": "9ad97afe-61d7-4e70-a7a4-ca981a676989",
   "metadata": {},
   "outputs": [],
   "source": [
    "a['Age'].fillna(a['Age'].mean(),inplace=True)\n",
    "a['Fare'].fillna(a['Fare'].mean(),inplace=True)\n",
    "a['Embarked'].fillna(a['Embarked'].mode()[0],inplace=True)"
   ]
  },
  {
   "cell_type": "markdown",
   "id": "9ee2a7db-11a4-4c09-8f7e-b33b6d2493c8",
   "metadata": {},
   "source": [
    "### Checking the values"
   ]
  },
  {
   "cell_type": "code",
   "execution_count": 22,
   "id": "024cbf58-ff5d-4b3a-904b-8e310506485b",
   "metadata": {},
   "outputs": [
    {
     "data": {
      "text/plain": [
       "Pclass      0\n",
       "Survived    0\n",
       "Name        0\n",
       "Sex         0\n",
       "Age         0\n",
       "Sibsp       0\n",
       "Parch       0\n",
       "Ticket      0\n",
       "Fare        0\n",
       "Embarked    0\n",
       "dtype: int64"
      ]
     },
     "execution_count": 22,
     "metadata": {},
     "output_type": "execute_result"
    }
   ],
   "source": [
    "a.isnull().sum()"
   ]
  },
  {
   "cell_type": "code",
   "execution_count": 23,
   "id": "675809fa-896c-46be-85b0-1395e8ecc6bf",
   "metadata": {},
   "outputs": [
    {
     "data": {
      "text/plain": [
       "Survived\n",
       "0    809\n",
       "1    500\n",
       "Name: count, dtype: int64"
      ]
     },
     "execution_count": 23,
     "metadata": {},
     "output_type": "execute_result"
    }
   ],
   "source": [
    "a['Survived'].value_counts()"
   ]
  },
  {
   "cell_type": "code",
   "execution_count": 24,
   "id": "8bc518d1-8138-440b-8718-0eeb26fc3b89",
   "metadata": {},
   "outputs": [
    {
     "data": {
      "text/plain": [
       "Sex\n",
       "male      843\n",
       "female    466\n",
       "Name: count, dtype: int64"
      ]
     },
     "execution_count": 24,
     "metadata": {},
     "output_type": "execute_result"
    }
   ],
   "source": [
    "a['Sex'].value_counts()"
   ]
  },
  {
   "cell_type": "code",
   "execution_count": 25,
   "id": "22f91fb2-dd91-4268-a504-db558b8e3297",
   "metadata": {},
   "outputs": [
    {
     "data": {
      "text/plain": [
       "Embarked\n",
       "S    916\n",
       "C    270\n",
       "Q    123\n",
       "Name: count, dtype: int64"
      ]
     },
     "execution_count": 25,
     "metadata": {},
     "output_type": "execute_result"
    }
   ],
   "source": [
    "a['Embarked'].value_counts()"
   ]
  },
  {
   "cell_type": "markdown",
   "id": "447348bb-eff7-4ed7-9039-171c7e5eae67",
   "metadata": {},
   "source": [
    "### Output/Visualisation"
   ]
  },
  {
   "cell_type": "markdown",
   "id": "46752a0a-05fb-4cef-b519-6c03fbf571c8",
   "metadata": {},
   "source": [
    "### 1. Total no of Passengers"
   ]
  },
  {
   "cell_type": "code",
   "execution_count": 26,
   "id": "9c0638ac-d38e-42c5-a460-af5f8c459642",
   "metadata": {},
   "outputs": [
    {
     "name": "stdout",
     "output_type": "stream",
     "text": [
      "Total number of Passengers are 1309\n"
     ]
    }
   ],
   "source": [
    "Passengers=a['Name'].count()\n",
    "print('Total number of Passengers are',Passengers )"
   ]
  },
  {
   "cell_type": "markdown",
   "id": "44c26b39-9db3-4b16-933d-37ebc514dd7f",
   "metadata": {},
   "source": [
    "### 2. Number of Alive Passenger"
   ]
  },
  {
   "cell_type": "code",
   "execution_count": 27,
   "id": "e8997bce-da14-4366-875d-5cbd938c9e90",
   "metadata": {},
   "outputs": [
    {
     "name": "stdout",
     "output_type": "stream",
     "text": [
      "Number of Alive Passengers are 500\n"
     ]
    }
   ],
   "source": [
    "Alive_Passengers=a['Survived'].value_counts()[1]\n",
    "print('Number of Alive Passengers are',Alive_Passengers )"
   ]
  },
  {
   "cell_type": "markdown",
   "id": "c0dc1b66-f629-43e2-86c0-bd40764cae5b",
   "metadata": {},
   "source": [
    "### 3. Number of Dead Passenger"
   ]
  },
  {
   "cell_type": "code",
   "execution_count": 28,
   "id": "7cda0e8e-a4ec-44ad-bd24-721ce9d09907",
   "metadata": {},
   "outputs": [
    {
     "name": "stdout",
     "output_type": "stream",
     "text": [
      "Number of Alive Passengers are 809\n"
     ]
    }
   ],
   "source": [
    "Dead_Passengers=a['Survived'].value_counts()[0]\n",
    "print('Number of Alive Passengers are',Dead_Passengers )"
   ]
  },
  {
   "cell_type": "markdown",
   "id": "fb4862ad-3d8c-452c-9b76-6e3c1f391c4a",
   "metadata": {},
   "source": [
    "### 4. Total Fare Price"
   ]
  },
  {
   "cell_type": "code",
   "execution_count": 29,
   "id": "3b0f4fc2-c528-4df3-a694-877fadf28a6a",
   "metadata": {},
   "outputs": [
    {
     "name": "stdout",
     "output_type": "stream",
     "text": [
      "Total Fare Price is $ 43583.78\n"
     ]
    }
   ],
   "source": [
    "Total_Fare_price=a['Fare'].sum()\n",
    "print('Total Fare Price is $',Total_Fare_price.round(2))\n"
   ]
  },
  {
   "cell_type": "markdown",
   "id": "db100d88-c0fb-44db-a0d7-372e3da3c369",
   "metadata": {},
   "source": [
    "### 5. Gender based Classification\n"
   ]
  },
  {
   "cell_type": "code",
   "execution_count": 30,
   "id": "9e609d7a-fde2-49e5-a295-8c495575a8a0",
   "metadata": {},
   "outputs": [
    {
     "name": "stdout",
     "output_type": "stream",
     "text": [
      "Gender based Classification is below\n"
     ]
    },
    {
     "data": {
      "image/png": "[encoded data removed]",
      "text/plain": [
       "<Figure size 600x600 with 1 Axes>"
      ]
     },
     "metadata": {},
     "output_type": "display_data"
    }
   ],
   "source": [
    "print(\"Gender based Classification is below\")\n",
    "gender_classification = a['Sex'].value_counts()\n",
    "plt.figure(figsize=(6, 6))\n",
    "plt.pie(gender_classification, labels=gender_classification.index, autopct='%0.2f%%')\n",
    "plt.title(\"Gender Classification\")\n",
    "plt.show()\n"
   ]
  },
  {
   "cell_type": "markdown",
   "id": "345e76ea-ef34-4141-9cd1-77dfe8b5acbb",
   "metadata": {},
   "source": [
    "### 6. Passenger by class"
   ]
  },
  {
   "cell_type": "code",
   "execution_count": 34,
   "id": "026ce95f-ab64-4ec6-9b2d-6d387063057a",
   "metadata": {},
   "outputs": [
    {
     "name": "stdout",
     "output_type": "stream",
     "text": [
      "Passenger by class is below\n"
     ]
    },
    {
     "data": {
      "image/png": "[encoded data removed]",
      "text/plain": [
       "<Figure size 800x600 with 1 Axes>"
      ]
     },
     "metadata": {},
     "output_type": "display_data"
    }
   ],
   "source": [
    "print(\"Passenger by class is below\")\n",
    "P_class=a['Pclass'].value_counts()\n",
    "plt.figure(figsize=(8, 6))\n",
    "P_class.plot(kind='bar', rot=0)\n",
    "ax = P_class.plot(kind='bar', rot=0)\n",
    "plt.title(\"Passenger by Class\")\n",
    "for i, v in enumerate(P_class):\n",
    "    ax.text(i, v + 0.2, str(v), ha='center', va='bottom')\n",
    "plt.show()"
   ]
  },
  {
   "cell_type": "markdown",
   "id": "ebd82e79-2a84-454a-a822-170c1153eadf",
   "metadata": {},
   "source": [
    "### 7. Survival & Died percentage"
   ]
  },
  {
   "cell_type": "code",
   "execution_count": 35,
   "id": "9fccb4b4-05b2-4399-8672-5d122964fa8e",
   "metadata": {},
   "outputs": [
    {
     "name": "stdout",
     "output_type": "stream",
     "text": [
      "Survival Percentage: 38.20%\n",
      "Death Percentage: 61.80%\n"
     ]
    },
    {
     "data": {
      "image/png": "[encoded data removed]",
      "text/plain": [
       "<Figure size 600x600 with 1 Axes>"
      ]
     },
     "metadata": {},
     "output_type": "display_data"
    }
   ],
   "source": [
    "total_passengers = len(a)\n",
    "survived_count = a['Survived'].sum()\n",
    "died_count = total_passengers - survived_count\n",
    "survival_percentage = (survived_count / total_passengers) * 100\n",
    "death_percentage = (died_count / total_passengers) * 100\n",
    "print(f\"Survival Percentage: {survival_percentage:.2f}%\")\n",
    "print(f\"Death Percentage: {death_percentage:.2f}%\")\n",
    "plt.figure(figsize=(6, 6))\n",
    "plt.pie([survival_percentage, death_percentage], labels=['Survived','Died'],autopct='%0.2f%%')\n",
    "plt.title(\"Survival vs. Death Percentage\")\n",
    "plt.show()"
   ]
  },
  {
   "cell_type": "markdown",
   "id": "a27dcb5d-0b75-4b3a-b573-2dad20294e68",
   "metadata": {},
   "source": [
    "### 8. Survive by gender"
   ]
  },
  {
   "cell_type": "code",
   "execution_count": 36,
   "id": "0e9c994d-1b1d-4d97-89f3-2d5f37cdbc00",
   "metadata": {},
   "outputs": [
    {
     "name": "stdout",
     "output_type": "stream",
     "text": [
      "Sex\n",
      "female    339\n",
      "male      161\n",
      "Name: Survived, dtype: int64\n"
     ]
    },
    {
     "data": {
      "image/png": "[encoded data removed]",
      "text/plain": [
       "<Figure size 640x480 with 1 Axes>"
      ]
     },
     "metadata": {},
     "output_type": "display_data"
    }
   ],
   "source": [
    "gender_survival = a.groupby('Sex')['Survived'].sum()\n",
    "gender_survival = gender_survival.round(2)\n",
    "print(gender_survival)\n",
    "ax = gender_survival.plot(kind='bar', rot=0)\n",
    "for i, v in enumerate(gender_survival):\n",
    "    ax.text(i, v + 0.2, str(v), ha='center', va='bottom')\n",
    "gender_survival.plot(kind='bar', rot=0)\n",
    "plt.title(\"Survive by Gender\")\n",
    "plt.show()"
   ]
  },
  {
   "cell_type": "markdown",
   "id": "e97ee6b7-be0d-4aba-8dad-63fbb4302eb9",
   "metadata": {},
   "source": [
    "### 9. Died by Gender"
   ]
  },
  {
   "cell_type": "code",
   "execution_count": 37,
   "id": "b8a05716-2dce-4dc8-bb8e-fc2d3b8b2fa6",
   "metadata": {},
   "outputs": [
    {
     "name": "stdout",
     "output_type": "stream",
     "text": [
      "Sex\n",
      "female    127\n",
      "male      682\n",
      "dtype: int64\n"
     ]
    },
    {
     "data": {
      "image/png": "[encoded data removed]",
      "text/plain": [
       "<Figure size 800x600 with 1 Axes>"
      ]
     },
     "metadata": {},
     "output_type": "display_data"
    }
   ],
   "source": [
    "gender_death = gender_classification-gender_survival\n",
    "gender_death = gender_death.round(2)\n",
    "print(gender_death)\n",
    "plt.figure(figsize=(8, 6))\n",
    "ax = gender_death.plot(kind='bar', rot=0, color='red')\n",
    "plt.title(\"Died by Gender\")\n",
    "# Add data labels\n",
    "for i, v in enumerate(gender_death):\n",
    "    ax.text(i, v + 0.2, str(v), ha='center', va='bottom', color='black')\n",
    "gender_death.plot(kind='bar', rot=0, color='red')\n",
    "plt.title(\"Died by Gender\")\n",
    "plt.show()"
   ]
  },
  {
   "cell_type": "markdown",
   "id": "1453268c-2624-4506-97aa-8c2658a45463",
   "metadata": {},
   "source": [
    "### 10. Passenger based on Age Group"
   ]
  },
  {
   "cell_type": "code",
   "execution_count": 38,
   "id": "05980b6d-edd8-4a89-a9d3-cc7ba7af60a5",
   "metadata": {},
   "outputs": [
    {
     "name": "stdout",
     "output_type": "stream",
     "text": [
      "Passenger based on Age Group:\n"
     ]
    },
    {
     "data": {
      "image/png": "[encoded data removed]",
      "text/plain": [
       "<Figure size 640x480 with 1 Axes>"
      ]
     },
     "metadata": {},
     "output_type": "display_data"
    }
   ],
   "source": [
    "bins = [0, 18, 30, 50, 80]\n",
    "age_labels = ['0-18', '18-30', '30-50', '50+']\n",
    "a['AgeGroup'] = pd.cut(a['Age'], bins, labels=age_labels)\n",
    "passengers_by_age_group = a['AgeGroup'].value_counts()\n",
    "ax = passengers_by_age_group.plot(kind='bar', rot=0)\n",
    "print(\"Passenger based on Age Group:\")\n",
    "for i, v in enumerate(passengers_by_age_group):\n",
    "    ax.text(i, v + 0.2, str(v), ha='center', va='bottom')\n",
    "plt.title(\"Passenger Based on Age Group\")\n",
    "plt.show()\n"
   ]
  },
  {
   "cell_type": "code",
   "execution_count": null,
   "id": "2bc1369c-6fe7-43ed-b195-54f67d48bb52",
   "metadata": {},
   "outputs": [],
   "source": []
  },
  {
   "cell_type": "code",
   "execution_count": null,
   "id": "3795c96d-20aa-4a1a-af8e-7421dc861d0b",
   "metadata": {},
   "outputs": [],
   "source": []
  }
 ],
 "metadata": {
  "kernelspec": {
   "display_name": "Python 3 (ipykernel)",
   "language": "python",
   "name": "python3"
  },
  "language_info": {
   "codemirror_mode": {
    "name": "ipython",
    "version": 3
   },
   "file_extension": ".py",
   "mimetype": "text/x-python",
   "name": "python",
   "nbconvert_exporter": "python",
   "pygments_lexer": "ipython3",
   "version": "3.11.7"
  }
 },
 "nbformat": 4,
 "nbformat_minor": 5
}
